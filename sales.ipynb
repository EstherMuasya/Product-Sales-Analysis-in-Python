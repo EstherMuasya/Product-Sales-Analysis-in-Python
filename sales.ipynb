{
 "cells": [
  {
   "cell_type": "code",
   "execution_count": 21,
   "id": "2e45cdc6",
   "metadata": {},
   "outputs": [],
   "source": [
    "#Imports\n",
    "import pandas as pd\n",
    "import numpy as np\n",
    "import seaborn as sns\n",
    "import matplotlib.pyplot as plt\n",
    "import warnings\n",
    "warnings.filterwarnings('ignore')\n",
    "sns.set_theme(style=\"darkgrid\", palette=\"coolwarm_r\")\n"
   ]
  },
  {
   "cell_type": "code",
   "execution_count": 22,
   "id": "17ea703a",
   "metadata": {
    "jupyter": {
     "source_hidden": true
    }
   },
   "outputs": [],
   "source": [
    "#Loading Data\n",
    "df= pd.read_csv('sales.csv')"
   ]
  },
  {
   "cell_type": "markdown",
   "id": "4ec2ca78",
   "metadata": {},
   "source": [
    "## Understanding Data"
   ]
  },
  {
   "cell_type": "code",
   "execution_count": 23,
   "id": "9ce0d32a",
   "metadata": {
    "jupyter": {
     "source_hidden": true
    }
   },
   "outputs": [
    {
     "data": {
      "text/html": [
       "<div>\n",
       "<style scoped>\n",
       "    .dataframe tbody tr th:only-of-type {\n",
       "        vertical-align: middle;\n",
       "    }\n",
       "\n",
       "    .dataframe tbody tr th {\n",
       "        vertical-align: top;\n",
       "    }\n",
       "\n",
       "    .dataframe thead th {\n",
       "        text-align: right;\n",
       "    }\n",
       "</style>\n",
       "<table border=\"1\" class=\"dataframe\">\n",
       "  <thead>\n",
       "    <tr style=\"text-align: right;\">\n",
       "      <th></th>\n",
       "      <th>week</th>\n",
       "      <th>sales_method</th>\n",
       "      <th>customer_id</th>\n",
       "      <th>nb_sold</th>\n",
       "      <th>revenue</th>\n",
       "      <th>years_as_customer</th>\n",
       "      <th>nb_site_visits</th>\n",
       "      <th>state</th>\n",
       "    </tr>\n",
       "  </thead>\n",
       "  <tbody>\n",
       "    <tr>\n",
       "      <th>0</th>\n",
       "      <td>1</td>\n",
       "      <td>Call</td>\n",
       "      <td>17ca2073-db8a-4b9f-83e6-278e5d21c37b</td>\n",
       "      <td>9</td>\n",
       "      <td>42.70</td>\n",
       "      <td>24</td>\n",
       "      <td>28</td>\n",
       "      <td>Pennsylvania</td>\n",
       "    </tr>\n",
       "    <tr>\n",
       "      <th>1</th>\n",
       "      <td>1</td>\n",
       "      <td>Call</td>\n",
       "      <td>c296c787-c70e-40b1-9bf2-151248b71986</td>\n",
       "      <td>8</td>\n",
       "      <td>40.05</td>\n",
       "      <td>4</td>\n",
       "      <td>17</td>\n",
       "      <td>Alabama</td>\n",
       "    </tr>\n",
       "    <tr>\n",
       "      <th>2</th>\n",
       "      <td>1</td>\n",
       "      <td>Email + Call</td>\n",
       "      <td>375a57db-00c9-4fea-aba0-557fbf99af24</td>\n",
       "      <td>9</td>\n",
       "      <td>NaN</td>\n",
       "      <td>5</td>\n",
       "      <td>21</td>\n",
       "      <td>Texas</td>\n",
       "    </tr>\n",
       "    <tr>\n",
       "      <th>3</th>\n",
       "      <td>1</td>\n",
       "      <td>Email</td>\n",
       "      <td>5b372650-a860-46c9-bab4-4835da5b08f5</td>\n",
       "      <td>9</td>\n",
       "      <td>86.80</td>\n",
       "      <td>9</td>\n",
       "      <td>20</td>\n",
       "      <td>Pennsylvania</td>\n",
       "    </tr>\n",
       "    <tr>\n",
       "      <th>4</th>\n",
       "      <td>1</td>\n",
       "      <td>Email + Call</td>\n",
       "      <td>53d4d2ef-d9c1-45d7-9f13-dc49e1ae8b07</td>\n",
       "      <td>13</td>\n",
       "      <td>190.37</td>\n",
       "      <td>0</td>\n",
       "      <td>32</td>\n",
       "      <td>Alabama</td>\n",
       "    </tr>\n",
       "    <tr>\n",
       "      <th>5</th>\n",
       "      <td>1</td>\n",
       "      <td>Email</td>\n",
       "      <td>fdd40530-41ad-4c8a-8688-e5bfc57bb846</td>\n",
       "      <td>11</td>\n",
       "      <td>107.67</td>\n",
       "      <td>6</td>\n",
       "      <td>26</td>\n",
       "      <td>New Jersey</td>\n",
       "    </tr>\n",
       "    <tr>\n",
       "      <th>6</th>\n",
       "      <td>1</td>\n",
       "      <td>Email</td>\n",
       "      <td>1862ccaf-fe2d-444c-8a03-bb47bcbf4056</td>\n",
       "      <td>10</td>\n",
       "      <td>99.28</td>\n",
       "      <td>1</td>\n",
       "      <td>19</td>\n",
       "      <td>Wyoming</td>\n",
       "    </tr>\n",
       "    <tr>\n",
       "      <th>7</th>\n",
       "      <td>1</td>\n",
       "      <td>Email</td>\n",
       "      <td>3487f16d-00f3-4058-bfdd-6fd6fcb31648</td>\n",
       "      <td>11</td>\n",
       "      <td>108.92</td>\n",
       "      <td>1</td>\n",
       "      <td>28</td>\n",
       "      <td>Iowa</td>\n",
       "    </tr>\n",
       "    <tr>\n",
       "      <th>8</th>\n",
       "      <td>1</td>\n",
       "      <td>Email + Call</td>\n",
       "      <td>43e409a8-419d-4c58-bce0-821107372060</td>\n",
       "      <td>9</td>\n",
       "      <td>132.68</td>\n",
       "      <td>15</td>\n",
       "      <td>26</td>\n",
       "      <td>Kentucky</td>\n",
       "    </tr>\n",
       "    <tr>\n",
       "      <th>9</th>\n",
       "      <td>1</td>\n",
       "      <td>Email</td>\n",
       "      <td>1bdf7e51-1308-4447-827d-811569748c2a</td>\n",
       "      <td>11</td>\n",
       "      <td>105.44</td>\n",
       "      <td>6</td>\n",
       "      <td>27</td>\n",
       "      <td>Connecticut</td>\n",
       "    </tr>\n",
       "  </tbody>\n",
       "</table>\n",
       "</div>"
      ],
      "text/plain": [
       "   week  sales_method                           customer_id  nb_sold  revenue  \\\n",
       "0     1          Call  17ca2073-db8a-4b9f-83e6-278e5d21c37b        9    42.70   \n",
       "1     1          Call  c296c787-c70e-40b1-9bf2-151248b71986        8    40.05   \n",
       "2     1  Email + Call  375a57db-00c9-4fea-aba0-557fbf99af24        9      NaN   \n",
       "3     1         Email  5b372650-a860-46c9-bab4-4835da5b08f5        9    86.80   \n",
       "4     1  Email + Call  53d4d2ef-d9c1-45d7-9f13-dc49e1ae8b07       13   190.37   \n",
       "5     1         Email  fdd40530-41ad-4c8a-8688-e5bfc57bb846       11   107.67   \n",
       "6     1         Email  1862ccaf-fe2d-444c-8a03-bb47bcbf4056       10    99.28   \n",
       "7     1         Email  3487f16d-00f3-4058-bfdd-6fd6fcb31648       11   108.92   \n",
       "8     1  Email + Call  43e409a8-419d-4c58-bce0-821107372060        9   132.68   \n",
       "9     1         Email  1bdf7e51-1308-4447-827d-811569748c2a       11   105.44   \n",
       "\n",
       "   years_as_customer  nb_site_visits         state  \n",
       "0                 24              28  Pennsylvania  \n",
       "1                  4              17       Alabama  \n",
       "2                  5              21         Texas  \n",
       "3                  9              20  Pennsylvania  \n",
       "4                  0              32       Alabama  \n",
       "5                  6              26    New Jersey  \n",
       "6                  1              19       Wyoming  \n",
       "7                  1              28          Iowa  \n",
       "8                 15              26      Kentucky  \n",
       "9                  6              27   Connecticut  "
      ]
     },
     "execution_count": 23,
     "metadata": {},
     "output_type": "execute_result"
    }
   ],
   "source": [
    "# preview of the first 10 Rows\n",
    "df.head(10)"
   ]
  },
  {
   "cell_type": "code",
   "execution_count": 24,
   "id": "9f0c8067",
   "metadata": {
    "jupyter": {
     "source_hidden": true
    }
   },
   "outputs": [
    {
     "name": "stdout",
     "output_type": "stream",
     "text": [
      "The Dimension of our Dataset is (15000, 8)\n"
     ]
    }
   ],
   "source": [
    "#Shape of the Dataset\n",
    "print(f\"The Dimension of our Dataset is {df.shape}\")"
   ]
  },
  {
   "cell_type": "code",
   "execution_count": 25,
   "id": "b49a2e21",
   "metadata": {
    "jupyter": {
     "source_hidden": true
    }
   },
   "outputs": [
    {
     "data": {
      "text/plain": [
       "Index(['week', 'sales_method', 'customer_id', 'nb_sold', 'revenue',\n",
       "       'years_as_customer', 'nb_site_visits', 'state'],\n",
       "      dtype='object')"
      ]
     },
     "execution_count": 25,
     "metadata": {},
     "output_type": "execute_result"
    }
   ],
   "source": [
    "#Columns in the Dataset\n",
    "df.columns"
   ]
  },
  {
   "cell_type": "code",
   "execution_count": 26,
   "id": "0beedae8",
   "metadata": {
    "jupyter": {
     "source_hidden": true
    }
   },
   "outputs": [
    {
     "name": "stdout",
     "output_type": "stream",
     "text": [
      "<class 'pandas.core.frame.DataFrame'>\n",
      "RangeIndex: 15000 entries, 0 to 14999\n",
      "Data columns (total 8 columns):\n",
      " #   Column             Non-Null Count  Dtype  \n",
      "---  ------             --------------  -----  \n",
      " 0   week               15000 non-null  int64  \n",
      " 1   sales_method       15000 non-null  object \n",
      " 2   customer_id        15000 non-null  object \n",
      " 3   nb_sold            15000 non-null  int64  \n",
      " 4   revenue            13926 non-null  float64\n",
      " 5   years_as_customer  15000 non-null  int64  \n",
      " 6   nb_site_visits     15000 non-null  int64  \n",
      " 7   state              15000 non-null  object \n",
      "dtypes: float64(1), int64(4), object(3)\n",
      "memory usage: 937.6+ KB\n"
     ]
    }
   ],
   "source": [
    "#info\n",
    "df.info()"
   ]
  },
  {
   "cell_type": "markdown",
   "id": "8ae73c42",
   "metadata": {},
   "source": [
    "The Data has 1500 entries, each row representing a customer and 8 columns represennting the features or attributes describing each customer.\n",
    "The following are the features:-\n",
    "- `week` → Week sale was made,counted as weeks since product launch\n",
    "- `sales_method` → Character, which of the three sales methods were used for that customer\n",
    "- `customer_id` → Character, unique identifier for the customer\n",
    "- `nb_sold` → Numeric, number of new products sold\n",
    "- `revenue` → Numeric, revenue from the sales, rounded to 2 decimal places.\n",
    "- `years_as_customer` → Numeric, number of years customer has been buying from us\n",
    "(company founded in 1984)\n",
    "- `nb_site_visits` → Numeric, number of times the customer has visited our website in the last 6 months\n",
    "- `state` → Character, location of the customer i.e. where orders are\n",
    " shipped\n",
    "\n"
   ]
  },
  {
   "cell_type": "markdown",
   "id": "409bb05f",
   "metadata": {},
   "source": [
    "## Data Cleaning"
   ]
  },
  {
   "cell_type": "code",
   "execution_count": 27,
   "id": "a8b9325d",
   "metadata": {
    "jupyter": {
     "source_hidden": true
    }
   },
   "outputs": [
    {
     "name": "stdout",
     "output_type": "stream",
     "text": [
      "Number of duplicates in the Dataset: 0\n"
     ]
    }
   ],
   "source": [
    "#Checking for duplicates\n",
    "print(f\"Number of duplicates in the Dataset: {df.duplicated().sum()}\")"
   ]
  },
  {
   "cell_type": "code",
   "execution_count": 28,
   "id": "4c1eadd3",
   "metadata": {
    "jupyter": {
     "source_hidden": true
    }
   },
   "outputs": [
    {
     "name": "stdout",
     "output_type": "stream",
     "text": [
      "Number of missing values per column: \n"
     ]
    },
    {
     "data": {
      "text/plain": [
       "week                    0\n",
       "sales_method            0\n",
       "customer_id             0\n",
       "nb_sold                 0\n",
       "revenue              1074\n",
       "years_as_customer       0\n",
       "nb_site_visits          0\n",
       "state                   0\n",
       "dtype: int64"
      ]
     },
     "execution_count": 28,
     "metadata": {},
     "output_type": "execute_result"
    }
   ],
   "source": [
    "#Checking for missing values\n",
    "print(f\"Number of missing values per column: \")\n",
    "df.isna().sum()"
   ]
  },
  {
   "cell_type": "markdown",
   "id": "7905472c",
   "metadata": {},
   "source": [
    "**Handling missing values**\n",
    "\n",
    "To handle the missing values in the `revenue` column we will replace the missing values  with `0` to indicate that the sales made by that customer did not generate any revenue"
   ]
  },
  {
   "cell_type": "code",
   "execution_count": 29,
   "id": "ad4a4b01",
   "metadata": {
    "jupyter": {
     "source_hidden": true
    }
   },
   "outputs": [
    {
     "data": {
      "text/plain": [
       "week                 0\n",
       "sales_method         0\n",
       "customer_id          0\n",
       "nb_sold              0\n",
       "revenue              0\n",
       "years_as_customer    0\n",
       "nb_site_visits       0\n",
       "state                0\n",
       "dtype: int64"
      ]
     },
     "execution_count": 29,
     "metadata": {},
     "output_type": "execute_result"
    }
   ],
   "source": [
    "# Replacing missing values\n",
    "df['revenue'] = df['revenue'].fillna(0.00)\n",
    "df.isna().sum()"
   ]
  },
  {
   "cell_type": "markdown",
   "id": "413416c3",
   "metadata": {},
   "source": [
    "**Inspecting Data types**\n",
    "\n",
    "Ensuring that categorical variables have the `Category` data type and converting relevant data types where necessary."
   ]
  },
  {
   "cell_type": "code",
   "execution_count": 30,
   "id": "84047ddb",
   "metadata": {
    "jupyter": {
     "source_hidden": true
    }
   },
   "outputs": [
    {
     "data": {
      "text/plain": [
       "week                   int64\n",
       "sales_method          object\n",
       "customer_id           object\n",
       "nb_sold                int64\n",
       "revenue              float64\n",
       "years_as_customer      int64\n",
       "nb_site_visits         int64\n",
       "state                 object\n",
       "dtype: object"
      ]
     },
     "execution_count": 30,
     "metadata": {},
     "output_type": "execute_result"
    }
   ],
   "source": [
    "# Inspecting Data Types\n",
    "df.dtypes"
   ]
  },
  {
   "cell_type": "code",
   "execution_count": 31,
   "id": "5be553b3",
   "metadata": {
    "jupyter": {
     "source_hidden": true
    }
   },
   "outputs": [
    {
     "data": {
      "text/plain": [
       "week                 category\n",
       "sales_method         category\n",
       "customer_id            object\n",
       "nb_sold                 int64\n",
       "revenue               float64\n",
       "years_as_customer       int64\n",
       "nb_site_visits          int64\n",
       "state                category\n",
       "dtype: object"
      ]
     },
     "execution_count": 31,
     "metadata": {},
     "output_type": "execute_result"
    }
   ],
   "source": [
    "df[['week', 'sales_method', 'state']] =df[['week', 'sales_method', 'state']].astype('category')\n",
    "\n",
    "# Ensuring revenue is rounded to two decimal places\n",
    "# df['revenue'] = round(df['revenue'], 2)\n",
    "df.dtypes"
   ]
  },
  {
   "cell_type": "code",
   "execution_count": 32,
   "id": "48b1c610",
   "metadata": {
    "jupyter": {
     "source_hidden": true
    }
   },
   "outputs": [
    {
     "data": {
      "text/plain": [
       "15000"
      ]
     },
     "execution_count": 32,
     "metadata": {},
     "output_type": "execute_result"
    }
   ],
   "source": [
    "#Ensuring the customer_id column contains only unique values\n",
    "df['customer_id'].nunique()"
   ]
  },
  {
   "cell_type": "code",
   "execution_count": 33,
   "id": "978f9172",
   "metadata": {
    "jupyter": {
     "source_hidden": true
    }
   },
   "outputs": [
    {
     "data": {
      "text/plain": [
       "array(['Call', 'Email + Call', 'Email'], dtype=object)"
      ]
     },
     "execution_count": 33,
     "metadata": {},
     "output_type": "execute_result"
    }
   ],
   "source": [
    "#Looking for anomalies in the sales_method column to ensure we have unique categories:- 'Call', 'Email', 'Email + call'\n",
    "categories = {'em + call':'Email + Call'}\n",
    "df['sales_method']= df['sales_method'].replace(categories).str.title()\n",
    "df['sales_method'].unique()\n",
    "\n"
   ]
  },
  {
   "cell_type": "code",
   "execution_count": 34,
   "id": "a79f553e",
   "metadata": {
    "jupyter": {
     "source_hidden": true
    }
   },
   "outputs": [
    {
     "data": {
      "text/plain": [
       "array(['Pennsylvania', 'Alabama', 'Texas', 'New Jersey', 'Wyoming',\n",
       "       'Iowa', 'Kentucky', 'Connecticut', 'Arizona', 'California',\n",
       "       'Virginia', 'New York', 'Arkansas', 'Ohio', 'Michigan',\n",
       "       'Minnesota', 'Florida', 'Illinois', 'Missouri', 'Kansas',\n",
       "       'Georgia', 'Indiana', 'Oklahoma', 'Louisiana', 'West Virginia',\n",
       "       'Colorado', 'Wisconsin', 'South Carolina', 'North Carolina',\n",
       "       'Nevada', 'Nebraska', 'New Mexico', 'Washington', 'Oregon',\n",
       "       'North Dakota', 'Tennessee', 'Mississippi', 'Massachusetts',\n",
       "       'Maryland', 'New Hampshire', 'South Dakota', 'Utah', 'Maine',\n",
       "       'Hawaii', 'Rhode Island', 'Alaska', 'Vermont', 'Delaware', 'Idaho',\n",
       "       'Montana'], dtype=object)"
      ]
     },
     "execution_count": 34,
     "metadata": {},
     "output_type": "execute_result"
    }
   ],
   "source": [
    "#Lets do the same for the state column\n",
    "df['state']= df['state'].str.title()\n",
    "df['state'].unique()"
   ]
  },
  {
   "cell_type": "code",
   "execution_count": 35,
   "id": "448857a7",
   "metadata": {
    "jupyter": {
     "source_hidden": true
    }
   },
   "outputs": [],
   "source": [
    "#saving the cleaned data\n",
    "# df.to_csv('Cleaned_Sales.csv')"
   ]
  },
  {
   "cell_type": "markdown",
   "id": "172cc894",
   "metadata": {},
   "source": [
    "## Demographics"
   ]
  },
  {
   "cell_type": "code",
   "execution_count": 36,
   "id": "61f55d57",
   "metadata": {
    "jupyter": {
     "source_hidden": true
    }
   },
   "outputs": [
    {
     "data": {
      "image/png": "[encoded data removed]",
      "text/plain": [
       "<Figure size 640x480 with 1 Axes>"
      ]
     },
     "metadata": {},
     "output_type": "display_data"
    }
   ],
   "source": [
    "# How many customers were there for each approach?\n",
    "sizes = df['sales_method'].value_counts(normalize= True)\n",
    "labels = sizes.index\n",
    "plt.pie(sizes, labels= labels, autopct= '%1.0f%%', colors=['skyblue', 'orange', 'green'])\n",
    "plt.title('Customers per Sales_Method', fontweight = 'bold', fontsize = 15)\n",
    "plt.show()"
   ]
  },
  {
   "cell_type": "markdown",
   "id": "c1ca542b",
   "metadata": {},
   "source": [
    " **Observation**\n",
    " \n",
    "The `Email` sales method is the most common, accounting for __50%__ of total customers. The `Call` method follows with **33%**, indicating it is also a significant approach but less than Email.The `Email + Call` combination is the least used, making up only __17%__ of the total customers. \n",
    "\n",
    "This suggests that Email is the dominant sales method, while the combination of Email + Call is the least preferred or least effective among customers. "
   ]
  },
  {
   "cell_type": "code",
   "execution_count": 37,
   "id": "bf914a58",
   "metadata": {
    "jupyter": {
     "source_hidden": true
    }
   },
   "outputs": [
    {
     "data": {
      "image/png": "[encoded data removed]",
      "text/plain": [
       "<Figure size 800x500 with 1 Axes>"
      ]
     },
     "metadata": {},
     "output_type": "display_data"
    }
   ],
   "source": [
    "#Which week had the most customers?\n",
    "week_counts = df['week'].value_counts()  \n",
    "percentages = (week_counts / week_counts.sum()) * 100 \n",
    "\n",
    "plt.figure(figsize=(8, 5))\n",
    "ax = sns.countplot(x='week', data=df, palette=\"viridis\")\n",
    "# Add percentage labels\n",
    "for a, week in zip(ax.patches, week_counts.index): \n",
    "    ax.text(a.get_x() + a.get_width()/2, a.get_height(),  \n",
    "            f'{percentages[week]:.1f}%',  \n",
    "            ha='center', va='bottom', fontsize=12, fontweight='bold')\n",
    "plt.title('Customers per Week', fontweight='bold', fontsize=15)\n",
    "plt.xlabel(\"Week\")\n",
    "plt.ylabel(\"Number of Customers\")\n",
    "plt.show()\n"
   ]
  },
  {
   "cell_type": "markdown",
   "id": "ba350dd6",
   "metadata": {},
   "source": [
    "**Observation**\n",
    "\n",
    "The bar chart displays the percentage distribution of customers across different weeks. Week 1 had the highest number of customers, accounting for 24.8% of the total, significantly leading compared to other weeks. Weeks 2 and 3 had equal customer proportions at 17.2% each, indicating a steady flow of customers. Week 4 followed closely with 16.6%, while Week 5 had a slightly lower share at 16.1%. Week 6 had the least number of customers at just 8.2%, showing a notable decline. \n",
    "\n",
    "Overall, the chart suggests that customer activity peaked at the beginning and gradually declined towards Week 6."
   ]
  },
  {
   "cell_type": "code",
   "execution_count": 38,
   "id": "c2b8e406",
   "metadata": {
    "jupyter": {
     "source_hidden": true
    }
   },
   "outputs": [
    {
     "data": {
      "text/plain": [
       "Text(0, 0.5, 'State')"
      ]
     },
     "execution_count": 38,
     "metadata": {},
     "output_type": "execute_result"
    },
    {
     "data": {
      "image/png": "[encoded data removed]",
      "text/plain": [
       "<Figure size 800x600 with 1 Axes>"
      ]
     },
     "metadata": {},
     "output_type": "display_data"
    }
   ],
   "source": [
    "# From which state were most customers from?\n",
    "count = df['state'].value_counts().sort_values(ascending= False).head(15)\n",
    "state_count = (count/ count.sum())*100\n",
    "plt.figure(figsize =(8,6))\n",
    "ax= sns.countplot(y= 'state', data= df, order = count.index, palette= 'viridis')\n",
    "for a, state in zip(ax.patches, count.index):\n",
    "    ax.text(a.get_width(), a.get_y() + a.get_height(), f'{state_count[state]:.0f}%', ha= 'left', va= 'bottom', \n",
    "            fontweight= 'bold', fontsize= 12)\n",
    "\n",
    "plt.title('Top 15 states with the highest Number of Customers', fontweight = 'bold', fontsize =15)\n",
    "plt.xlabel('Number of Customers')\n",
    "plt.ylabel('State')\n",
    "\n",
    "\n",
    "#check how to display top 10 states, and order"
   ]
  },
  {
   "cell_type": "markdown",
   "id": "1de520da",
   "metadata": {},
   "source": [
    "**Observation**\n",
    "\n",
    "The chart shows that California has the highest number of customers at 19%, significantly leading other states. Texas, New York, and Florida also have a considerable share of customers, while the remaining states have a more evenly distributed but smaller customer base. The trend suggests that customer concentration is higher in a few key states, with a gradual decline across the rest. \n",
    "\n",
    "The distribution suggests that the majority of customers are concentrated in a few key states, with California having a notable dominance over the rest. The presence of several states with smaller percentages indicates a wider but less concentrated customer base across the country."
   ]
  },
  {
   "cell_type": "code",
   "execution_count": 39,
   "id": "aafdf417",
   "metadata": {
    "jupyter": {
     "source_hidden": true
    }
   },
   "outputs": [],
   "source": [
    "#"
   ]
  }
 ],
 "metadata": {
  "kernelspec": {
   "display_name": "Python 3 (ipykernel)",
   "language": "python",
   "name": "python3"
  },
  "language_info": {
   "codemirror_mode": {
    "name": "ipython",
    "version": 3
   },
   "file_extension": ".py",
   "mimetype": "text/x-python",
   "name": "python",
   "nbconvert_exporter": "python",
   "pygments_lexer": "ipython3",
   "version": "3.12.4"
  }
 },
 "nbformat": 4,
 "nbformat_minor": 5
}
